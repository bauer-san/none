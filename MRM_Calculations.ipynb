{
 "cells": [
  {
   "cell_type": "code",
   "execution_count": 1,
   "metadata": {
    "collapsed": true
   },
   "outputs": [],
   "source": [
    "import numpy as np\n",
    "from unitconv import *     # Unit conversions\n",
    "from helperfuncs import *  # Other helper functions\n",
    "\n",
    "# hyperparameters\n",
    "tol=1e-5"
   ]
  },
  {
   "cell_type": "code",
   "execution_count": 2,
   "metadata": {
    "collapsed": false
   },
   "outputs": [],
   "source": [
    "# Assumptions\n",
    "# Road\n",
    "lane_width_m = 3.5        # width of ego lane\n",
    "rad_m = 950.0             # minimum radius\n",
    "\n",
    "# Vehicle\n",
    "V_init_kmh = 130          # initial vehicle speed\n",
    "accelX_mpss = -3.0        # acceleration profile\n",
    "veh_trackwidth_m = 2.0    # distance from left to right wheel\n",
    "veh_wheelbase_m = 4.826   # distance from front axle to rear axle of vehicle\n",
    "veh_steer_ratio = 18.0    # ratio of handwheel to tire angle\n",
    "veh_Cf_deg_per_G = 6.0    # lateral tire stiffness, deg slip angle per G force\n",
    "ego_accelY_mpss = roundtotenth(kmh2mps(V_init_kmh)**2 / rad_m) # A_mpss = V_mps**2 / R_m\n",
    "\n",
    "# Not-to-exceed values\n",
    "NTE_accelY_mpss = 2.0     # NOT TO EXCEED value of lateral acceleration in AD mode\n",
    "margin_to_lanemarker_m = 0.2 #"
   ]
  },
  {
   "cell_type": "code",
   "execution_count": 3,
   "metadata": {
    "collapsed": true
   },
   "outputs": [],
   "source": [
    "#################\n",
    "# System Design #\n",
    "#################\n",
    "# Enter values below to design your system.\n",
    "PERCEPTION_m_ASIL_D = 250.0    # guaranteed obj det and lane marker range"
   ]
  },
  {
   "cell_type": "code",
   "execution_count": 4,
   "metadata": {
    "collapsed": false,
    "scrolled": false
   },
   "outputs": [],
   "source": [
    "def calc_stoppingdistanceandtime(V_init_mps, accelX_mpss, _mpsss=-5.0, dt_s=0.01):\n",
    "    \"\"\"\n",
    "    Calculate distance to stop.\n",
    "    Inputs:\n",
    "         V_init_mps: initial vehicle speed in m/s\n",
    "        accelX_mpss: maximum target acceleration in m/s^2 (deceleration = negative signed value)\n",
    "             _mpsss: gradient of deceleration in  m/s^3.  (Default: -5 m/s^3)\n",
    "    Outputs:\n",
    "             Time_s: total time to decelerate to 0.0 m/s in seconds\n",
    "         Distance_m: total distance required to decelerate to 0.0 m/s in meters\n",
    "    \"\"\"\n",
    "    Distance_m = 0.0\n",
    "    Time_s = 0.0\n",
    "    Velo_mps = float(V_init_mps)\n",
    "    CurrentDecel_mpss = 0.0\n",
    "\n",
    "    while (Velo_mps > 0.0+tol):\n",
    "        if (CurrentDecel_mpss > accelX_mpss):\n",
    "            CurrentDecel_mpss += _mpsss\n",
    "        Time_s += dt_s\n",
    "        Distance_m += (Velo_mps * dt_s) + 1/2*(CurrentDecel_mpss * (dt_s ** 2))\n",
    "        Velo_mps += CurrentDecel_mpss * dt_s\n",
    "\n",
    "    Time_s = roundtohundredth(Time_s)\n",
    "    Distance_m = roundtotenth(Distance_m)\n",
    "\n",
    "    return Time_s, Distance_m"
   ]
  },
  {
   "cell_type": "code",
   "execution_count": 5,
   "metadata": {
    "collapsed": false
   },
   "outputs": [],
   "source": [
    "# stopping distance\n",
    "Time_s, Distance_m = calc_stoppingdistanceandtime(kmh2mps(V_init_kmh),accelX_mpss)\n",
    "\n",
    "# distance / circumference * 360_deg\n",
    "traveled_deg = roundtohundredth(Distance_m/(np.pi * 2 * rad_m)*360.0)\n",
    "\n",
    "# lane\n",
    "lanemarker_movement_m = roundtotenth(rad_m * np.sin(traveled_deg*np.pi/180))\n",
    "lateral_movement_m = roundtotenth(lanemarker_movement_m - (lane_width_m-veh_trackwidth_m)/2)\n",
    "\n",
    "# kinematic tire steer angle\n",
    "TSA_kine_deg = np.rad2deg(1.0/2.0*(np.arctan(veh_wheelbase_m/rad_m) + np.arctan(veh_wheelbase_m/(rad_m+veh_trackwidth_m))))\n",
    "\n",
    "# dynamic steering angle\n",
    "TSA_dyn_rad = veh_Cf_deg_per_G * ego_accelY_mpss / 9.81\n",
    "\n",
    "# maximum steering wheel angle\n",
    "SWA_deg = roundtotenth((TSA_kine_deg + TSA_dyn_rad) * veh_steer_ratio)"
   ]
  },
  {
   "cell_type": "code",
   "execution_count": 6,
   "metadata": {
    "collapsed": false
   },
   "outputs": [],
   "source": [
    "#assertions\n",
    "assert (ego_accelY_mpss < NTE_accelY_mpss), 'Too fast for curve!  Your lateral acceleration, {} m/s^2, is too high.  It should not exceed {} m/s^2'.format(ego_accelY_mpss, NTE_accelY_mpss)\n",
    "#assert (Distance_m < PERCEPTION_m_ASIL_D), 'Danger of over-driving your perception range because you can''t decelerate quickly enough'\n",
    "assert (traveled_deg < 90.0), 'traveled_deg larger than expected.  Check your assumptions and math.'"
   ]
  },
  {
   "cell_type": "markdown",
   "metadata": {
    "variables": {
     "1/rad_m": "0.0010526315789473684",
     "Distance_m": "130.5",
     "NTE_accelY_mpss": "2.0",
     "SWA_deg": "19.5",
     "Time_s": "7.22",
     "V_init_kmh": "130",
     "accelX_mpss": "-3.0",
     "ego_accelY_mpss": "1.3",
     "lane_width_m": "3.5",
     "lanemarker_movement_m": "130.0",
     "lateral_movement_m": "129.2",
     "rad_m": "950.0",
     "traveled_deg": "7.87",
     "veh_Cf_deg_per_G": "6.0",
     "veh_steer_ratio": "18.0",
     "veh_trackwidth_m": "2.0",
     "veh_wheelbase_m": "4.826"
    }
   },
   "source": [
    "# RQ: What is required to achieve stop in lane?\n",
    "---\n",
    "\n",
    "## Vehicle Assumptions\n",
    "* Vehicle track width {{veh_trackwidth_m}} m\n",
    "* Vehicle wheelbase {{veh_wheelbase_m}} m\n",
    "* Ratio of handwheel to tire angle {{veh_steer_ratio}} (unitless)\n",
    "* Lateral tire stiffness {{veh_Cf_deg_per_G}} deg slip angle per G force\n",
    "* Vehicle deceleration {{accelX_mpss}} m/s/s\n",
    "\n",
    "---\n",
    "# Design Goals\n",
    "1. When driven in AD mode, the ego vehicle shall stay in lane.\n",
    "2. When driven in AD mode, the ego vehicle lateral acceleration shall not exceed {{NTE_accelY_mpss}} m/s/s.\n",
    "3. The MRM shall put the vehicle in MRC as soon as possible in the ego lane.\n",
    "\n",
    "# Scenario\n",
    "The MRM begins while the AD is driving the vehicle at {{V_init_kmh}} km/h in the center of a {{lane_width_m}} m wide lane at the start of a curved road semgent with curvature {{1/rad_m}} 1/m (Radius: {{rad_m}} m).  **See open Questions\n",
    "\n",
    "---\n",
    "# Result\n",
    "The above assumptions lead to the following results:\n",
    "\n",
    "The ego vehicle would travel for {{Time_s}} sec covering {{Distance_m}} m and experience a maximum lateral acceleration of {{ego_accelY_mpss}} m/s/s.  The vehicle would travel {{traveled_deg}} degrees along the curved road segment before coming to a stop.\n",
    "\n",
    "The lane marker will move {{lanemarker_movement_m}} m and vehicle will need to move laterally {{lateral_movement_m}} m, in order to stay in lane which will require a maximum steering angle of {{SWA_deg}} deg.\n",
    "\n",
    "## System Requirements\n",
    "* Deceleration capability greater or equal to {{accelX_mpss}} m/s/s.\n",
    "* Object detection range greater or equal to {{Distance_m}} m.\n",
    "* Steering capability to achieve steering angle of {{SWA_deg}} deg.\n",
    "\n",
    "---\n",
    "# Open Questions\n",
    "How common are such curves?  How frequently do they occur in the ODE of our system?\n",
    "\n",
    "---\n",
    "# References\n",
    "The typical highway design parameters were compiled from the following references.\n",
    "<img src=\"files/highwaydesignREFS_radius.jpg\">"
   ]
  },
  {
   "cell_type": "code",
   "execution_count": null,
   "metadata": {
    "collapsed": true
   },
   "outputs": [],
   "source": []
  }
 ],
 "metadata": {
  "anaconda-cloud": {},
  "kernelspec": {
   "display_name": "Python 2",
   "language": "python",
   "name": "python2"
  },
  "language_info": {
   "codemirror_mode": {
    "name": "ipython",
    "version": 2
   },
   "file_extension": ".py",
   "mimetype": "text/x-python",
   "name": "python",
   "nbconvert_exporter": "python",
   "pygments_lexer": "ipython2",
   "version": "2.7.13"
  },
  "toc": {
   "toc_cell": false,
   "toc_number_sections": true,
   "toc_threshold": 6,
   "toc_window_display": false
  },
  "widgets": {
   "state": {},
   "version": "1.1.2"
  }
 },
 "nbformat": 4,
 "nbformat_minor": 0
}
